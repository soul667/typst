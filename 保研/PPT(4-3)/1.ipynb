{
 "cells": [
  {
   "cell_type": "code",
   "execution_count": 10,
   "metadata": {},
   "outputs": [],
   "source": [
    "from pdf2image import convert_from_path\n",
    "from pptx import Presentation\n",
    "from pptx.util import Inches\n",
    "\n",
    "# 读取PDF并将其转换为图像\n",
    "images = convert_from_path('./main.pdf', dpi=350)\n",
    "\n",
    "# # 创建一个新的PPT演示文稿\n",
    "# prs = Presentation()\n",
    "\n",
    "# # 将每个图像添加到PPT的幻灯片中\n",
    "# for image in images:\n",
    "#     slide = prs.slides.add_slide(prs.slide_layouts[5])\n",
    "#     left = top = Inches(0)\n",
    "#     pic = slide.shapes.add_picture(image.filename, left, top, width=prs.slide_width, height=prs.slide_height)\n",
    "\n",
    "# # 保存PPT文件\n",
    "# # prs.save('./output.pptx')\n"
   ]
  },
  {
   "cell_type": "code",
   "execution_count": 1,
   "metadata": {},
   "outputs": [
    {
     "name": "stdout",
     "output_type": "stream",
     "text": [
      "PPT saved at ./output_presentation.pptx\n"
     ]
    }
   ],
   "source": [
    "from pdf2image import convert_from_path\n",
    "from pptx import Presentation\n",
    "from pptx.util import Inches, Pt\n",
    "from pptx.enum.shapes import MSO_SHAPE\n",
    "\n",
    "def pdf_to_ppt(pdf_path, ppt_path, dpi=300):\n",
    "    # Convert PDF to images\n",
    "    images = convert_from_path(pdf_path, dpi=dpi)\n",
    "    \n",
    "    # Create a PowerPoint presentation object\n",
    "    prs = Presentation()\n",
    "\n",
    "    for image in images:\n",
    "        # Add a slide with a blank layout\n",
    "        slide_layout = prs.slide_layouts[6]  # 6 is for a blank slide\n",
    "        slide = prs.slides.add_slide(slide_layout)\n",
    "        \n",
    "        # Save the image to a temporary file\n",
    "        image_path = \"./temp_image.png\"\n",
    "        image.save(image_path, 'PNG')\n",
    "        \n",
    "        # Get image dimensions\n",
    "        width, height = image.size\n",
    "        \n",
    "        # Convert pixel dimensions to inches\n",
    "        width_inches = width / dpi\n",
    "        height_inches = height / dpi\n",
    "        \n",
    "        # Adjust slide size\n",
    "        prs.slide_width = Inches(width_inches)\n",
    "        prs.slide_height = Inches(height_inches)\n",
    "        \n",
    "        # Add the image to the slide\n",
    "        left = top = Inches(0)\n",
    "        pic = slide.shapes.add_picture(image_path, left, top, prs.slide_width, prs.slide_height)\n",
    "    \n",
    "    # Save the presentation\n",
    "    prs.save(ppt_path)\n",
    "    print(f\"PPT saved at {ppt_path}\")\n",
    "\n",
    "# Usage\n",
    "pdf_path = \"./main.pdf\"\n",
    "ppt_path = \"./output_presentation.pptx\"\n",
    "pdf_to_ppt(pdf_path, ppt_path)\n"
   ]
  },
  {
   "cell_type": "code",
   "execution_count": null,
   "metadata": {},
   "outputs": [],
   "source": [
    "# from pdf2image import convert_from_path\n",
    "# from pptx import Presentation\n",
    "# from pptx.util import Inches\n",
    "\n",
    "# # 读取PDF并将其转换为图像\n",
    "# images = convert_from_path('./main.pdf', dpi=1000)\n",
    "\n",
    "# # 创建一个新的PPT演示文稿\n",
    "# prs = Presentation()\n",
    "\n",
    "# # 将每个图像添加到PPT的幻灯片中\n",
    "# for image in images:\n",
    "#     slide = prs.slides.add_slide(prs.slide_layouts[5])\n",
    "#     left = top = Inches(0)\n",
    "#     pic = slide.shapes.add_picture(image.filename, left, top, width=prs.slide_width, height=prs.slide_height)\n",
    "\n",
    "# # 保存PPT文件\n",
    "# prs.save('output.pptx')\n"
   ]
  },
  {
   "cell_type": "code",
   "execution_count": 4,
   "metadata": {},
   "outputs": [
    {
     "ename": "SyntaxError",
     "evalue": "invalid syntax (<ipython-input-4-f4bbaa6f1ff4>, line 1)",
     "output_type": "error",
     "traceback": [
      "\u001b[1;36m  File \u001b[1;32m\"<ipython-input-4-f4bbaa6f1ff4>\"\u001b[1;36m, line \u001b[1;32m1\u001b[0m\n\u001b[1;33m    python.exe -m pip install --upgrade pip\u001b[0m\n\u001b[1;37m                  ^\u001b[0m\n\u001b[1;31mSyntaxError\u001b[0m\u001b[1;31m:\u001b[0m invalid syntax\n"
     ]
    }
   ],
   "source": [
    "pip install aspose -i https://pypi.tuna.tsinghua.edu.cn/simple"
   ]
  }
 ],
 "metadata": {
  "kernelspec": {
   "display_name": "Python 3",
   "language": "python",
   "name": "python3"
  },
  "language_info": {
   "codemirror_mode": {
    "name": "ipython",
    "version": 3
   },
   "file_extension": ".py",
   "mimetype": "text/x-python",
   "name": "python",
   "nbconvert_exporter": "python",
   "pygments_lexer": "ipython3",
   "version": "3.8.3"
  }
 },
 "nbformat": 4,
 "nbformat_minor": 2
}
