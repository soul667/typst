{
 "cells": [
  {
   "cell_type": "code",
   "execution_count": 13,
   "metadata": {},
   "outputs": [
    {
     "name": "stdout",
     "output_type": "stream",
     "text": [
      "D:\\Data\\typst\\保研\\cv.typ-main\\img\n"
     ]
    }
   ],
   "source": [
    "# 读取图片\"D:\\Data\\typst\\保研\\cv.typ-main\\img\\证件照.jpg.副本\"\"，并压缩输出\n",
    "import cv2\n",
    "import numpy as np\n",
    "import os\n",
    "#更换路径\n",
    "os.chdir(\"D:/Data/typst/保研/cv.typ-main/img/\")\n",
    "print(os.getcwd())\n",
    "# img = cv2.imread(r\"D:/Data/typst/保研/cv.typ-main/img/证件照.jpg\")\n",
    "# imshow = cv2.resize(img, (0, 0), fx=0.5, fy=0.5)\n",
    "# cv2.imshow(\"img\", imshow)\n",
    "# cv2.waitKey(0)"
   ]
  }
 ],
 "metadata": {
  "kernelspec": {
   "display_name": "Python 3",
   "language": "python",
   "name": "python3"
  },
  "language_info": {
   "codemirror_mode": {
    "name": "ipython",
    "version": 3
   },
   "file_extension": ".py",
   "mimetype": "text/x-python",
   "name": "python",
   "nbconvert_exporter": "python",
   "pygments_lexer": "ipython3",
   "version": "3.8.3"
  }
 },
 "nbformat": 4,
 "nbformat_minor": 2
}
